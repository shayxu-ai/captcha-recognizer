{
 "metadata": {
  "language_info": {
   "codemirror_mode": {
    "name": "ipython",
    "version": 3
   },
   "file_extension": ".py",
   "mimetype": "text/x-python",
   "name": "python",
   "nbconvert_exporter": "python",
   "pygments_lexer": "ipython3",
   "version": "3.7.8-final"
  },
  "orig_nbformat": 2,
  "kernelspec": {
   "name": "python3",
   "display_name": "Python 3",
   "language": "python"
  }
 },
 "nbformat": 4,
 "nbformat_minor": 2,
 "cells": [
  {
   "cell_type": "code",
   "execution_count": 1,
   "metadata": {},
   "outputs": [],
   "source": [
    "import os\n",
    "\n",
    "from svglib.svglib import svg2rlg   # 函数内动态import会使得pyinstaller产生的exe报错。\n",
    "from reportlab.graphics import renderPM     # 不过应该有对应的参数的可以加进去\n",
    "from PIL import Image\n"
   ]
  },
  {
   "cell_type": "code",
   "execution_count": 22,
   "metadata": {},
   "outputs": [],
   "source": [
    "def check_y_axis(im, l, r):\n",
    "\n",
    "    topborder = 0\n",
    "    bottomborder = 0\n",
    "    state = 0\n",
    "    for y in range(im.size[1]):\n",
    "        total = sum(0 if im.getpixel((x, y)) == 255 else 1 for x in range(l, r+1))\n",
    "        if total >2 and not state:\n",
    "            state = 1\n",
    "            bottomborder = y\n",
    "        \n",
    "        if total <= 2 and state:\n",
    "            topborder = y\n",
    "            state = 0\n",
    "            if topborder - bottomborder > 17:\n",
    "                return topborder, bottomborder\n",
    "            elif topborder - bottomborder > 5:\n",
    "                state = 1\n",
    "\n",
    "        "
   ]
  },
  {
   "cell_type": "code",
   "execution_count": 23,
   "metadata": {},
   "outputs": [],
   "source": [
    "im = Image.open('captcha_generator/NodeJS_version/img_output/w44j_9.jpg')\n",
    "im = im.convert('1')\n",
    "width, height = im.size\n",
    "im = im.convert('1')\n",
    "left_border = 0    # 数字的左边界\n",
    "right_border = 0   # 数字的右边界\n",
    "state = 0 # 0: 当前位置在数字外， 1: 当前位置在数字内。\n",
    "for x in range(width):\n",
    "    total = sum(0 if im.getpixel((x, y)) == 255 else 1 for y in range(height))\n",
    "\n",
    "    if total >2 and not state:\n",
    "        state = 1\n",
    "        left_border = x\n",
    "    \n",
    "    if total <= 2 and state:\n",
    "        state = 0\n",
    "        right_border = x\n",
    "        # x轴有效性\n",
    "        if (35 <= right_border - left_border)  or (right_border - left_border <= 5):\n",
    "            continue\n",
    "\n",
    "        topborder, bottomborder = check_y_axis(im, left_border, right_border)\n",
    "        # y轴有效性\n",
    "        if topborder - bottomborder >= 35 or (not topborder and not bottomborder):\n",
    "            continue\n",
    "        \n",
    "\n",
    "        im_tmp = im.crop((left_border, bottomborder, right_border, topborder))\n",
    "        im_tmp.show()\n",
    "        im_tmp.save('figure_' + str(x) + '.jpg')\n"
   ]
  },
  {
   "cell_type": "code",
   "execution_count": 8,
   "metadata": {},
   "outputs": [
    {
     "output_type": "execute_result",
     "data": {
      "text/plain": [
       "[1, 2, 3, 4, 5, 6, 7, 8, 9]"
      ]
     },
     "metadata": {},
     "execution_count": 8
    }
   ],
   "source": [
    "[x for x in range(1, 10)]"
   ]
  },
  {
   "cell_type": "code",
   "execution_count": 11,
   "metadata": {},
   "outputs": [
    {
     "output_type": "execute_result",
     "data": {
      "text/plain": [
       "150"
      ]
     },
     "metadata": {},
     "execution_count": 11
    }
   ],
   "source": [
    "im.size[0]"
   ]
  }
 ]
}
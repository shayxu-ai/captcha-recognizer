{
 "metadata": {
  "language_info": {
   "codemirror_mode": {
    "name": "ipython",
    "version": 3
   },
   "file_extension": ".py",
   "mimetype": "text/x-python",
   "name": "python",
   "nbconvert_exporter": "python",
   "pygments_lexer": "ipython3",
   "version": "3.7.8-final"
  },
  "orig_nbformat": 2,
  "kernelspec": {
   "name": "python3",
   "display_name": "Python 3",
   "language": "python"
  }
 },
 "nbformat": 4,
 "nbformat_minor": 2,
 "cells": [
  {
   "cell_type": "code",
   "execution_count": 1,
   "metadata": {},
   "outputs": [],
   "source": [
    "\n",
    "import tensorflow as tf\n",
    "import tensorboard\n",
    "from tensorflow import keras\n",
    "\n",
    "import os\n",
    "from PIL import Image\n",
    "import numpy"
   ]
  },
  {
   "cell_type": "code",
   "execution_count": 4,
   "metadata": {},
   "outputs": [
    {
     "output_type": "stream",
     "name": "stdout",
     "text": [
      "Found 5324 files belonging to 32 classes.\n",
      "Using 4260 files for training.\n",
      "Found 5324 files belonging to 32 classes.\n",
      "Using 1064 files for validation.\n"
     ]
    }
   ],
   "source": [
    "train_ds = keras.preprocessing.image_dataset_from_directory(\n",
    "    \"captcha_generator/NodeJS_version/img_output/\", labels='inferred', image_size=(40, 40), subset=\"training\", validation_split=0.2,\n",
    "    seed=123\n",
    ")\n",
    "\n",
    "val_ds  = keras.preprocessing.image_dataset_from_directory(\n",
    "    \"captcha_generator/NodeJS_version/img_output/\", labels='inferred', image_size=(40, 40), subset=\"validation\", validation_split=0.2,\n",
    "    seed=123, color_mode='grayscale'\n",
    ")"
   ]
  },
  {
   "cell_type": "code",
   "execution_count": null,
   "metadata": {},
   "outputs": [],
   "source": []
  }
 ]
}